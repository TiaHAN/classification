{
 "cells": [
  {
   "cell_type": "code",
   "execution_count": 1,
   "metadata": {},
   "outputs": [
    {
     "data": {
      "text/html": [
       "<p>To authorize access needed by Earth Engine, open the following\n",
       "        URL in a web browser and follow the instructions:</p>\n",
       "        <p><a href=https://code.earthengine.google.com/client-auth?scopes=https%3A//www.googleapis.com/auth/earthengine%20https%3A//www.googleapis.com/auth/devstorage.full_control&request_id=aVXcRq4JRmrYn5D0TJK9KW8c8HpLCOkPZqJvQSCzvrA&tc=0LC27T2tpMFF9uHpb8AdAN0U3nUXuL7IPazmOUeY3VU&cc=yKW62hmfUQQWFkQQBzSEoFJRwi9syqR-os1S0BeEev8>https://code.earthengine.google.com/client-auth?scopes=https%3A//www.googleapis.com/auth/earthengine%20https%3A//www.googleapis.com/auth/devstorage.full_control&request_id=aVXcRq4JRmrYn5D0TJK9KW8c8HpLCOkPZqJvQSCzvrA&tc=0LC27T2tpMFF9uHpb8AdAN0U3nUXuL7IPazmOUeY3VU&cc=yKW62hmfUQQWFkQQBzSEoFJRwi9syqR-os1S0BeEev8</a></p>\n",
       "        <p>The authorization workflow will generate a code, which you should paste in the box below.</p>\n",
       "        "
      ],
      "text/plain": [
       "<IPython.core.display.HTML object>"
      ]
     },
     "metadata": {},
     "output_type": "display_data"
    },
    {
     "name": "stdout",
     "output_type": "stream",
     "text": [
      "\n",
      "Successfully saved authorization token.\n"
     ]
    },
    {
     "data": {
      "application/vnd.jupyter.widget-view+json": {
       "model_id": "5ab0583c453b4f9b8cff1e633104573d",
       "version_major": 2,
       "version_minor": 0
      },
      "text/plain": [
       "Map(center=[20, 0], controls=(WidgetControl(options=['position', 'transparent_bg'], widget=HBox(children=(Togg…"
      ]
     },
     "execution_count": 1,
     "metadata": {},
     "output_type": "execute_result"
    }
   ],
   "source": [
    "\n",
    "import geemap\n",
    "import ee\n",
    "geemap.set_proxy(port=)\n",
    "ee.Authenticate()\n",
    "ee.Initialize()\n",
    "Map = geemap.Map()\n",
    "Map"
   ]
  },
  {
   "cell_type": "code",
   "execution_count": 175,
   "metadata": {},
   "outputs": [],
   "source": [
    "Roi_id = 'users/wanghan02191127/shanxilinyi'\n",
    "Roi = ee.FeatureCollection(Roi_id)\n",
    "ImageYear = 2021\n",
    "savename = 'Shaanxilinyi_Other1AndOrhchard2_ClassifiedImg'\n",
    "samp_id =' users/wanghan02191127/shanxilinyi-sample'\n",
    "samp =  ee.FeatureCollection(samp_id)\n",
    "\n",
    "\n",
    "dapeng = samp.filter(ee.Filter.eq('Type', 1)) \\\n",
    "            .map(lambda fea: fea.set('class', 0))\n",
    "li = samp.filter(ee.Filter.eq('Type', 2)) \\\n",
    "         .map(lambda fea: fea.set('class', 1))\n",
    "pingguo = samp.filter(ee.Filter.eq('Type', 3)) \\\n",
    "             .map(lambda fea: fea.set('class', 2))\n",
    "shiliu = samp.filter(ee.Filter.eq('Type', 4)) \\\n",
    "            .map(lambda fea: fea.set('class', 3))\n",
    "shizi = samp.filter(ee.Filter.eq('Type', 5)) \\\n",
    "           .map(lambda fea: fea.set('class', 4))\n",
    "tao = samp.filter(ee.Filter.eq('Type', 6)) \\\n",
    "         .map(lambda fea: fea.set('class', 5))\n",
    "yumi = samp.filter(ee.Filter.eq('Type', 7)) \\\n",
    "          .map(lambda fea: fea.set('class', 6))\n",
    "zao = samp.filter(ee.Filter.eq('Type', 8)) \\\n",
    "         .map(lambda fea: fea.set('class', 7))\n",
    "# print(\"size:\",li.size(),pingguo.size(),shiliu.size(),shizi.size(),tao.size())\n",
    "\n",
    "\n",
    "# Roi_outline=ee.Image().toByte().paint(featureCollection = Roi,color = 0,width = 0.5)\n",
    "# roi_style = {'palette': 'red'}\n",
    "# Map.addLayer(Roi_outline,roi_style,'Roi_outline')\n",
    "# Map.centerObject(Roi,6)"
   ]
  },
  {
   "cell_type": "code",
   "execution_count": 179,
   "metadata": {},
   "outputs": [
    {
     "name": "stdout",
     "output_type": "stream",
     "text": [
      "波段名称： ['B2', 'B3', 'B4', 'B5', 'B6', 'B7', 'B8', 'B11', 'B12', 'NDVI', 'NDRE1', 'A', 'RESI']\n"
     ]
    }
   ],
   "source": [
    "# 已有土地利用数据\n",
    "imageVisParam_ESA = { \"opacity\":1,\n",
    "                     \"bands\":[\"Map\"],\n",
    "                     \"min\":10,\n",
    "                     \"max\":110,\n",
    "                    \"palette\":[\"006400\",\"ffbb22\",\"ffff4c\",\"f096ff\",\"fa0000\",\"b4b4b4\",\"f0f0f0\",\"0064c8\",\"0096a0\",\"00cf75\",\"fae6a0\"]\n",
    "                    }\n",
    "ESA_Roi = ee.ImageCollection(\"ESA/WorldCover/v100\")\\\n",
    "            .filterBounds(Roi)\\\n",
    "            .select('Map')\\\n",
    "            .mosaic()\\\n",
    "            .clip(Roi)\n",
    "crop_Roi = ESA_Roi.eq(ee.Image.constant(40))  \n",
    "crop_Roi_mask = crop_Roi.updateMask(crop_Roi.mask())\n",
    "Map.addLayer(ESA_Roi,imageVisParam_ESA,'ESA_WorldCover')\n",
    "Map.addLayer(crop_Roi_mask, {'min': 0, 'max': 1, 'palette': ['black', 'green']}, 'ESA_Cropland')\n",
    "\n",
    "# print('crop_Roi_mask',crop_Roi_mask)\n",
    "\n",
    "\n",
    "# Function\n",
    "# S2 ReProcess Function\n",
    "def sentinel2toa(img):\n",
    "    selected_bands = ['B1', 'B2', 'B3', 'B4', 'B5', 'B6', 'B7', 'B8', 'B8A', 'B9', 'B11', 'B12']\n",
    "    toa_img = img.select(selected_bands).divide(10000).toDouble()\n",
    "    qa60_band = img.select(['QA60'])\n",
    "    scl_band = img.select(['SCL'])\n",
    "    solar_azimuth = img.get('MEAN_SOLAR_AZIMUTH_ANGLE')\n",
    "    solar_zenith = img.get('MEAN_SOLAR_ZENITH_ANGLE')\n",
    "    time_start = img.get('system:time_start')\n",
    "    toa_img = toa_img.addBands(qa60_band).addBands(scl_band) \\\n",
    "                     .set('solar_azimuth', solar_azimuth) \\\n",
    "                     .set('solar_zenith', solar_zenith) \\\n",
    "                     .set('system:time_start', time_start)\n",
    "    return toa_img\n",
    "\n",
    "def cloudMask(toa):\n",
    "    # Compute several indicators of cloudiness and take the minimum of them\n",
    "    def rescale(img, thresholds):\n",
    "        return img.subtract(thresholds[0]).divide(thresholds[1] - thresholds[0])\n",
    "    # Initialize the cloud score image with a value of 1\n",
    "    score = ee.Image(1)\n",
    "    # Clouds are reasonably bright\n",
    "    score = score.min(rescale(toa.select(['B2']), [0.1, 0.5]))\n",
    "    score = score.min(rescale(toa.select(['B1']), [0.1, 0.3]))\n",
    "    score = score.min(rescale(toa.select(['B1']).add(toa.select(['B9'])), [0.15, 0.2]))\n",
    "    score = score.min(rescale(toa.select(['B4']).add(toa.select(['B3'])).add(toa.select('B2')), [0.2, 0.8]))\n",
    "    # Clouds are moist\n",
    "    ndmi = toa.normalizedDifference(['B8A', 'B11'])\n",
    "    score = score.min(rescale(ndmi, [-0.3, 0.3]))\n",
    "    # However, clouds are not snow\n",
    "    ndsi = toa.normalizedDifference(['B3', 'B11'])\n",
    "    score = score.min(rescale(ndsi, [0.9, 0.4]))\n",
    "    # Define a cloud score threshold\n",
    "    cloudScoreThreshold = 0.12\n",
    "    cloud = score.gt(cloudScoreThreshold)\n",
    "    mask = cloud.eq(0)\n",
    "    return toa.updateMask(mask)\n",
    "\n",
    "# Define the function to add indices\n",
    "def addIndices(image):\n",
    "    ndvi = image.normalizedDifference(['B8', 'B4'])\n",
    "    ndre1 = image.normalizedDifference(['B6', 'B5'])\n",
    "    resi = image.expression('(RE3+RE2-RE1)/(RE3+RE2+RE1)', {\n",
    "        'RE1': image.select('B5'),\n",
    "        'RE2': image.select('B6'),\n",
    "        'RE3': image.select('B7')\n",
    "    })\n",
    "    A = image.expression('(RE3-RE2)/RE1', {\n",
    "        'RE1': image.select('B5'),\n",
    "        'RE2': image.select('B6'),\n",
    "        'RE3': image.select('B7')\n",
    "    })\n",
    "    return image.addBands(ndvi.rename(\"NDVI\")) \\\n",
    "                .addBands(ndre1.rename('NDRE1')) \\\n",
    "                .addBands(resi.rename(\"RESI\")) \\\n",
    "                .addBands(A.rename(\"A\")) \n",
    "                \n",
    "# 哨兵影像数据\n",
    "year = ee.Number(ImageYear)\n",
    "startDay = ee.Date.fromYMD(year,1,1)\n",
    "endDay = ee.Date.fromYMD(year,12,30)\n",
    "bands =['B2','B3','B4','B5','B6','B7','B8','B11','B12','NDVI','NDRE1','A','RESI']\n",
    "# print(bands)\n",
    "\n",
    "#  全年有效影像——原始波段以及计算波段\n",
    "Sentinel2 = ee.ImageCollection(\"COPERNICUS/S2_SR\")\\\n",
    "              .filterDate(startDay,endDay)\\\n",
    "              .filterBounds(Roi)\\\n",
    "              .map(sentinel2toa)\\\n",
    "              .map(cloudMask)\\\n",
    "              .map(addIndices)\n",
    "# print(Sentinel2)             \n",
    "              \n",
    "S2_ValidiImg_clipRoi = Sentinel2.select(bands)\\\n",
    "                                .map(lambda image:image.clip(Roi))\n",
    "                                \n",
    "# Map.addLayer(S2_ValidiImg_clipRoi.median(),{'min': 0, 'max': 0.3, 'bands': ['B4', 'B3', 'B2']},'S2_ValidiImg_clipRoi_RGB')\n",
    "\n",
    "month = ee.List.sequence(1, 12, 1)\n",
    "def process_month(i):\n",
    "    i = ee.Number(i)\n",
    "    SDay = ee.Date.fromYMD(year, i, 1)\n",
    "    EDay = SDay.advance(1, 'month')\n",
    "    Img = S2_ValidiImg_clipRoi.filterDate(SDay, EDay).mean()\n",
    "    return Img.set('time', SDay.format('yyyy-MM-dd'))\n",
    "Month_Com = month.map(process_month)\n",
    "Month_Com = ee.ImageCollection(Month_Com)\n",
    "\n",
    "# 获取影像集合中某个属性的值列表\n",
    "image = Month_Com.first()\n",
    "band_names = image.bandNames()\n",
    "print(\"波段名称：\", band_names.getInfo())"
   ]
  },
  {
   "cell_type": "code",
   "execution_count": 200,
   "metadata": {},
   "outputs": [
    {
     "name": "stdout",
     "output_type": "stream",
     "text": [
      "12\n",
      "['constant', 'cos', 'sin', 'NDVI', 'fitted_NDVI']\n"
     ]
    }
   ],
   "source": [
    "# 3.NDVI曲线谐波回归平滑\n",
    "# harmonic regression 谐波回归\n",
    "# c0 + c1*cos(2*pi*t) + c2*sin(2*pi*t) = NDVI\n",
    "time_reference = startDay\n",
    "def process_image(img):\n",
    "    tstamp_NDVI = ee.Date(img.get('time'))\n",
    "    tdelta_NDVI = tstamp_NDVI.difference(time_reference, 'year')\n",
    "    # 构建用于拟合方程的图像\n",
    "    img_fitting_NDVI = img.select() \\\n",
    "        .addBands(1)\\\n",
    "        .addBands(ee.Image(tdelta_NDVI.multiply(2 * 3.141592653589793).cos()).rename('cos')) \\\n",
    "        .addBands(ee.Image(tdelta_NDVI.multiply(2 * 3.141592653589793).sin()).rename('sin')) \\\n",
    "        .addBands(img.select('NDVI')) \\\n",
    "        .toDouble()\n",
    "    return img_fitting_NDVI\n",
    "s2_Month_Com_fitting_NDVI = Month_Com.map(process_image)\n",
    "\n",
    "dependent_NDVI = ee.List(['NDVI'])\n",
    "harmonicIndependents_NDVI= ee.List(['constant', 'cos', 'sin'])\n",
    "# The output of the regerssion reduction is a[X,Y] array image.\n",
    "harmonic_NDVI = s2_Month_Com_fitting_NDVI.select(harmonicIndependents_NDVI.cat(dependent_NDVI)) \\\n",
    "                                          .reduce(ee.Reducer.linearRegression(\n",
    "                                              harmonicIndependents_NDVI.length(), dependent_NDVI.length()))\n",
    "coefficients_NDVI = harmonic_NDVI.select('coefficients')\\\n",
    "                                 .matrixTranspose() \\\n",
    "                                 .arrayFlatten([dependent_NDVI, harmonicIndependents_NDVI])\\\n",
    "                                 .clip(Roi)  \n",
    "\n",
    "def add_fitted_NDVI(image):\n",
    "    fitted_NDVI = image.select(harmonicIndependents_NDVI) \\\n",
    "                        .multiply(coefficients_NDVI) \\\n",
    "                        .reduce('sum') \\\n",
    "                        .rename('fitted_NDVI')\n",
    "    return image.addBands(fitted_NDVI)\n",
    "s2_Month_Com_fitted_NDVI = s2_Month_Com_fitting_NDVI.map(add_fitted_NDVI)\n",
    "print(s2_Month_Com_fitted_NDVI.size().getInfo())\n",
    "# 获取影像集合中某个属性的值列表\n",
    "first_image = s2_Month_Com_fitted_NDVI.first()\n",
    "band_names = first_image.bandNames()\n",
    "band_names_list = band_names.getInfo()\n",
    "print(band_names_list)\n",
    "Map.addLayer(s2_Month_Com_fitted_NDVI.select(['NDVI','fitted_NDVI']),{},'s2_Month_Com_fitted_NDVI')"
   ]
  },
  {
   "cell_type": "code",
   "execution_count": 195,
   "metadata": {},
   "outputs": [
    {
     "name": "stdout",
     "output_type": "stream",
     "text": [
      "12\n",
      "['constant', 'cos', 'sin', 'NDRE1', 'fitted_NDRE1']\n"
     ]
    }
   ],
   "source": [
    "# 4.NDRE1曲线谐波回归平滑\n",
    "# harmonic regression 谐波回归\n",
    "# c0 + c1*cos(2*pi*t) + c2*sin(2*pi*t) = NDRE1\n",
    "time_reference = startDay\n",
    "def process_image(img):\n",
    "    tstamp_NDRE1 = ee.Date(img.get('time'))\n",
    "    tdelta_NDRE1 = tstamp_NDRE1.difference(time_reference, 'year')\n",
    "    # 构建用于拟合方程的图像\n",
    "    img_fitting_NDRE1 = img.select() \\\n",
    "        .addBands(1)\\\n",
    "        .addBands(ee.Image(tdelta_NDRE1.multiply(2 * 3.141592653589793).cos()).rename('cos')) \\\n",
    "        .addBands(ee.Image(tdelta_NDRE1.multiply(2 * 3.141592653589793).sin()).rename('sin')) \\\n",
    "        .addBands(img.select('NDRE1')) \\\n",
    "        .toDouble()\n",
    "    return img_fitting_NDRE1\n",
    "s2_Month_Com_fitting_NDRE1 = Month_Com.map(process_image)\n",
    "\n",
    "dependent_NDRE1 = ee.List(['NDRE1'])\n",
    "harmonicIndependents_NDRE1= ee.List(['constant', 'cos', 'sin'])\n",
    "# The output of the regerssion reduction is a[X,Y] array image.\n",
    "harmonic_NDRE1 = s2_Month_Com_fitting_NDRE1.select(harmonicIndependents_NDRE1.cat(dependent_NDRE1)) \\\n",
    "                                          .reduce(ee.Reducer.linearRegression(\n",
    "                                              harmonicIndependents_NDRE1.length(), dependent_NDRE1.length()))\n",
    "coefficients_NDRE1 = harmonic_NDRE1.select('coefficients')\\\n",
    "                                 .matrixTranspose() \\\n",
    "                                 .arrayFlatten([dependent_NDRE1, harmonicIndependents_NDRE1])\\\n",
    "                                 .clip(Roi)  \n",
    "\n",
    "def add_fitted_NDRE1(image):\n",
    "    fitted_NDRE1 = image.select(harmonicIndependents_NDRE1) \\\n",
    "                        .multiply(coefficients_NDRE1) \\\n",
    "                        .reduce('sum') \\\n",
    "                        .rename('fitted_NDRE1')\n",
    "    return image.addBands(fitted_NDRE1)\n",
    "s2_Month_Com_fitted_NDRE1 = s2_Month_Com_fitting_NDRE1.map(add_fitted_NDRE1)\n",
    "print(s2_Month_Com_fitted_NDVI.size().getInfo())\n",
    "first_image = s2_Month_Com_fitted_NDRE1.first()\n",
    "band_names = first_image.bandNames()\n",
    "band_names_list = band_names.getInfo()\n",
    "print(band_names_list)\n",
    "Map.addLayer(s2_Month_Com_fitted_NDRE1.select(['NDRE1','fitted_NDRE1']),{},'s2_Month_Com_fitted_NDRE1')"
   ]
  },
  {
   "cell_type": "code",
   "execution_count": 198,
   "metadata": {},
   "outputs": [
    {
     "name": "stdout",
     "output_type": "stream",
     "text": [
      "12\n"
     ]
    }
   ],
   "source": [
    "# 5.A曲线谐波回归平滑\n",
    "# harmonic regression 谐波回归\n",
    "# c0 + c1*cos(2*pi*t) + c2*sin(2*pi*t) = A\n",
    "time_reference = startDay\n",
    "def process_image(img):\n",
    "    tstamp_A = ee.Date(img.get('time'))\n",
    "    tdelta_A = tstamp_A.difference(time_reference, 'year')\n",
    "    # 构建用于拟合方程的图像\n",
    "    img_fitting_A = img.select() \\\n",
    "        .addBands(1)\\\n",
    "        .addBands(ee.Image(tdelta_A.multiply(2 * 3.141592653589793).cos()).rename('cos')) \\\n",
    "        .addBands(ee.Image(tdelta_A.multiply(2 * 3.141592653589793).sin()).rename('sin')) \\\n",
    "        .addBands(img.select('A')) \\\n",
    "        .toDouble()\n",
    "    return img_fitting_A\n",
    "s2_Month_Com_fitting_A = Month_Com.map(process_image)\n",
    "\n",
    "dependent_A = ee.List(['A'])\n",
    "harmonicIndependents_A= ee.List(['constant', 'cos', 'sin'])\n",
    "# The output of the regerssion reduction is a[X,Y] array image.\n",
    "harmonic_A = s2_Month_Com_fitting_A.select(harmonicIndependents_A.cat(dependent_A)) \\\n",
    "                                          .reduce(ee.Reducer.linearRegression(\n",
    "                                              harmonicIndependents_A.length(), dependent_A.length()))\n",
    "coefficients_A = harmonic_A.select('coefficients')\\\n",
    "                                 .matrixTranspose() \\\n",
    "                                 .arrayFlatten([dependent_A, harmonicIndependents_A])\\\n",
    "                                 .clip(Roi)  \n",
    "\n",
    "def add_fitted_A(image):\n",
    "    fitted_A = image.select(harmonicIndependents_A) \\\n",
    "                        .multiply(coefficients_A) \\\n",
    "                        .reduce('sum') \\\n",
    "                        .rename('fitted_A')\n",
    "    return image.addBands(fitted_A)\n",
    "s2_Month_Com_fitted_A = s2_Month_Com_fitting_A.map(add_fitted_A)\n",
    "print(s2_Month_Com_fitted_NDVI.size().getInfo())\n",
    "Map.addLayer(s2_Month_Com_fitted_A.select(['A','fitted_A']),{},'s2_Month_Com_fitted_A')"
   ]
  },
  {
   "cell_type": "code",
   "execution_count": 190,
   "metadata": {},
   "outputs": [],
   "source": [
    "# 6.纹理特征\n",
    "S2_5Month = S2_ValidiImg_clipRoi.filterDate('2021-06-01','2021-11-01').median()\n",
    "S2_5Month_ndvi =S2_5Month.clip(Roi).select('NDVI')\n",
    "S2_5Month_ndvi_Uint16 = S2_5Month_ndvi.add(127.5)\\\n",
    "                                      .multiply(127.5)\\\n",
    "                                      .toUint16()\n",
    "S2_5Month_ndvi_glcm = S2_5Month_ndvi_Uint16.glcmTexture()"
   ]
  },
  {
   "cell_type": "code",
   "execution_count": 191,
   "metadata": {},
   "outputs": [],
   "source": [
    "#7.DEM特征\n",
    "dataset = ee.Image('USGS/SRTMGL1_003')\n",
    "elevation = dataset.select('elevation')\n",
    "slope = ee.Terrain.slope(elevation)\n",
    "hillshade = ee.Terrain.hillshade(elevation)"
   ]
  },
  {
   "cell_type": "code",
   "execution_count": 192,
   "metadata": {},
   "outputs": [
    {
     "ename": "EEException",
     "evalue": "Can't combine 0 images.",
     "output_type": "error",
     "traceback": [
      "\u001b[1;31m---------------------------------------------------------------------------\u001b[0m",
      "\u001b[1;31mEEException\u001b[0m                               Traceback (most recent call last)",
      "Cell \u001b[1;32mIn[192], line 5\u001b[0m\n\u001b[0;32m      2\u001b[0m \u001b[39mdef\u001b[39;00m \u001b[39mmerge_bands\u001b[39m(current, previous):\n\u001b[0;32m      3\u001b[0m     \u001b[39mreturn\u001b[39;00m ee\u001b[39m.\u001b[39mImage(previous)\u001b[39m.\u001b[39maddBands(current)\n\u001b[1;32m----> 5\u001b[0m S2_Month_Com_NDVI \u001b[39m=\u001b[39m ee\u001b[39m.\u001b[39mImage(s2_Month_Com_fitted_NDVI\u001b[39m.\u001b[39mselect([\u001b[39m'\u001b[39m\u001b[39mfitted_NDVI\u001b[39m\u001b[39m'\u001b[39m])\u001b[39m.\u001b[39miterate(merge_bands, ee\u001b[39m.\u001b[39;49mImage([])))\n\u001b[0;32m      7\u001b[0m \u001b[39m# S2_Month_Com_NDRE1 = ee.Image(s2_Month_Com_fitted_NDRE1.select(['fitted_NDRE1'])\u001b[39;00m\n\u001b[0;32m      8\u001b[0m \u001b[39m#                               .iterate(merge_bands, ee.Image([])))\u001b[39;00m\n\u001b[0;32m      9\u001b[0m \u001b[39m# S2_Month_Com_A = ee.Image(s2_Month_Com_fitted_A.select(['fitted_A'])\u001b[39;00m\n\u001b[1;32m   (...)\u001b[0m\n\u001b[0;32m     27\u001b[0m \u001b[39m#                                  hillshade\u001b[39;00m\n\u001b[0;32m     28\u001b[0m \u001b[39m#                                  ]).updateMask(crop_Roi)\u001b[39;00m\n",
      "File \u001b[1;32md:\\miniconda\\envs\\geemap\\lib\\site-packages\\ee\\computedobject.py:29\u001b[0m, in \u001b[0;36mComputedObjectMetaclass.__call__\u001b[1;34m(cls, *args, **kwargs)\u001b[0m\n\u001b[0;32m     27\u001b[0m   \u001b[39mreturn\u001b[39;00m args[\u001b[39m0\u001b[39m]\n\u001b[0;32m     28\u001b[0m \u001b[39melse\u001b[39;00m:\n\u001b[1;32m---> 29\u001b[0m   \u001b[39mreturn\u001b[39;00m \u001b[39mtype\u001b[39m\u001b[39m.\u001b[39m\u001b[39m__call__\u001b[39m(\u001b[39mcls\u001b[39m, \u001b[39m*\u001b[39margs, \u001b[39m*\u001b[39m\u001b[39m*\u001b[39mkwargs)\n",
      "File \u001b[1;32md:\\miniconda\\envs\\geemap\\lib\\site-packages\\ee\\image.py:76\u001b[0m, in \u001b[0;36mImage.__init__\u001b[1;34m(self, args, version)\u001b[0m\n\u001b[0;32m     72\u001b[0m   \u001b[39msuper\u001b[39m()\u001b[39m.\u001b[39m\u001b[39m__init__\u001b[39m(\n\u001b[0;32m     73\u001b[0m       apifunction\u001b[39m.\u001b[39mApiFunction\u001b[39m.\u001b[39mlookup(\u001b[39m'\u001b[39m\u001b[39mImage.load\u001b[39m\u001b[39m'\u001b[39m), {\u001b[39m'\u001b[39m\u001b[39mid\u001b[39m\u001b[39m'\u001b[39m: args})\n\u001b[0;32m     74\u001b[0m \u001b[39melif\u001b[39;00m \u001b[39misinstance\u001b[39m(args, (\u001b[39mlist\u001b[39m, \u001b[39mtuple\u001b[39m)):\n\u001b[0;32m     75\u001b[0m   \u001b[39m# Make an image out of each element.\u001b[39;00m\n\u001b[1;32m---> 76\u001b[0m   image \u001b[39m=\u001b[39m Image\u001b[39m.\u001b[39;49mcombine_([Image(i) \u001b[39mfor\u001b[39;49;00m i \u001b[39min\u001b[39;49;00m args])\n\u001b[0;32m     77\u001b[0m   \u001b[39msuper\u001b[39m()\u001b[39m.\u001b[39m\u001b[39m__init__\u001b[39m(image\u001b[39m.\u001b[39mfunc, image\u001b[39m.\u001b[39margs)\n\u001b[0;32m     78\u001b[0m \u001b[39melif\u001b[39;00m \u001b[39misinstance\u001b[39m(args, computedobject\u001b[39m.\u001b[39mComputedObject):\n",
      "File \u001b[1;32md:\\miniconda\\envs\\geemap\\lib\\site-packages\\ee\\image.py:577\u001b[0m, in \u001b[0;36mImage.combine_\u001b[1;34m(images, names)\u001b[0m\n\u001b[0;32m    567\u001b[0m \u001b[39m\u001b[39m\u001b[39m\"\"\"Combine all the bands from the given images into a single image.\u001b[39;00m\n\u001b[0;32m    568\u001b[0m \n\u001b[0;32m    569\u001b[0m \u001b[39mArgs:\u001b[39;00m\n\u001b[1;32m   (...)\u001b[0m\n\u001b[0;32m    574\u001b[0m \u001b[39m  The combined image.\u001b[39;00m\n\u001b[0;32m    575\u001b[0m \u001b[39m\"\"\"\u001b[39;00m\n\u001b[0;32m    576\u001b[0m \u001b[39mif\u001b[39;00m \u001b[39mnot\u001b[39;00m images:\n\u001b[1;32m--> 577\u001b[0m   \u001b[39mraise\u001b[39;00m ee_exception\u001b[39m.\u001b[39mEEException(\u001b[39m'\u001b[39m\u001b[39mCan\u001b[39m\u001b[39m\\'\u001b[39;00m\u001b[39mt combine 0 images.\u001b[39m\u001b[39m'\u001b[39m)\n\u001b[0;32m    579\u001b[0m \u001b[39m# Append all the bands.\u001b[39;00m\n\u001b[0;32m    580\u001b[0m result \u001b[39m=\u001b[39m Image(images[\u001b[39m0\u001b[39m])\n",
      "\u001b[1;31mEEException\u001b[0m: Can't combine 0 images."
     ]
    }
   ],
   "source": [
    "# 8. 最终用于分类的影像\n",
    "def merge_bands(current, previous):\n",
    "    return ee.Image(previous).addBands(current)\n",
    "\n",
    "S2_Month_Com_NDVI = ee.Image(s2_Month_Com_fitted_NDVI.select(['fitted_NDVI']).iterate(merge_bands, ee.Image([])))\n",
    "\n",
    "# S2_Month_Com_NDRE1 = ee.Image(s2_Month_Com_fitted_NDRE1.select(['fitted_NDRE1'])\n",
    "#                               .iterate(merge_bands, ee.Image([])))\n",
    "# S2_Month_Com_A = ee.Image(s2_Month_Com_fitted_A.select(['fitted_A'])\n",
    "#                           .iterate(merge_bands, ee.Image([])))\n",
    "\n",
    "\n",
    "\n",
    "\n",
    "\n",
    "# S2_Median_Year = S2_ValidiImg_clipRoi.median()\n",
    "\n",
    "# glcmb=['NDVI_asm','NDVI_contrast','NDVI_corr','NDVI_ent','NDVI_idm']\n",
    "\n",
    "# Pre_snic_Image = ee.Image.cat([S2_Month_Com_NDVI,\n",
    "#                                  S2_Month_Com_NDRE1,\n",
    "#                                  S2_Month_Com_A,\n",
    "#                                  S2_Median_Year,\n",
    "#                                  S2_5Month_ndvi_glcm.select(glcmb),\n",
    "#                                  elevation,\n",
    "#                                  slope,\n",
    "#                                  hillshade\n",
    "#                                  ]).updateMask(crop_Roi)\n"
   ]
  }
 ],
 "metadata": {
  "kernelspec": {
   "display_name": "aiearth",
   "language": "python",
   "name": "python3"
  },
  "language_info": {
   "codemirror_mode": {
    "name": "ipython",
    "version": 3
   },
   "file_extension": ".py",
   "mimetype": "text/x-python",
   "name": "python",
   "nbconvert_exporter": "python",
   "pygments_lexer": "ipython3",
   "version": "3.10.12"
  },
  "orig_nbformat": 4
 },
 "nbformat": 4,
 "nbformat_minor": 2
}
